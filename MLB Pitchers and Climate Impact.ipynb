{
 "cells": [
  {
   "cell_type": "markdown",
   "metadata": {},
   "source": [
    "# MLB Pitchers and Home State Climate Impact\n",
    "\n",
    "In colder climate states, a decent number of baseball games can be played in cold weather (sometimes even in light snow fall). I was curious to see if the arms of MLB-level pitchers could potentially have been impacted by pitching in the cold during developmental years (little league and high school) once they reached the highest level. Reaching this level as a pitcher also requires some of them to throw a large number of innings after in college.\n",
    "\n",
    "The following data was pulled using an SQL query from the Sean Lahman baseball database. The data obtained for the analysis below is from the years 2010 through 2019. I am using this time frame to show data that is recent to reflect current trends in nutrition, performance training and medical information related to pitching and the arm. *Please note that the 2020 season is not in this analysis due to not being included in the database used. It may be beneficial not to include the 2020 season due to its unusual nature and limited number of games (COVID-19).*\n",
    "\n",
    "To qualify, each player had to have pitched at least 5 innings during that time span. By doing this, we are able to remove position players that may have had to pitch an inning occasionally for their team during a blowout loss, which is recorded in the Sean Lahman baseball database. The players who exceeded this innings limit then had their numbers compiled as an individual during the mentioned time frame.\n",
    "\n",
    "Please note that the players in this analysis are all born in the United States. This allows us to analyze players born in the same country, with similar game rules, training schedules and league structures, but from varying climates."
   ]
  },
  {
   "cell_type": "code",
   "execution_count": 1,
   "metadata": {},
   "outputs": [],
   "source": [
    "#importing\n",
    "\n",
    "import pandas as pd\n",
    "import numpy as np\n",
    "import matplotlib.pyplot as plt"
   ]
  },
  {
   "cell_type": "code",
   "execution_count": 2,
   "metadata": {},
   "outputs": [
    {
     "data": {
      "text/html": [
       "<div>\n",
       "<style scoped>\n",
       "    .dataframe tbody tr th:only-of-type {\n",
       "        vertical-align: middle;\n",
       "    }\n",
       "\n",
       "    .dataframe tbody tr th {\n",
       "        vertical-align: top;\n",
       "    }\n",
       "\n",
       "    .dataframe thead th {\n",
       "        text-align: right;\n",
       "    }\n",
       "</style>\n",
       "<table border=\"1\" class=\"dataframe\">\n",
       "  <thead>\n",
       "    <tr style=\"text-align: right;\">\n",
       "      <th></th>\n",
       "      <th>Name</th>\n",
       "      <th>State_Born</th>\n",
       "      <th>Batting_Avg</th>\n",
       "      <th>Innings_Pitched</th>\n",
       "      <th>Games</th>\n",
       "      <th>Starts</th>\n",
       "      <th>Strikeouts</th>\n",
       "      <th>Earned_Runs</th>\n",
       "      <th>Walks_Allowed</th>\n",
       "      <th>Hit_Batters</th>\n",
       "      <th>Int_Walks</th>\n",
       "      <th>Hits</th>\n",
       "      <th>Homeruns_Allowed</th>\n",
       "    </tr>\n",
       "  </thead>\n",
       "  <tbody>\n",
       "    <tr>\n",
       "      <th>0</th>\n",
       "      <td>A. J. Achter</td>\n",
       "      <td>OH</td>\n",
       "      <td>0.277</td>\n",
       "      <td>61</td>\n",
       "      <td>45</td>\n",
       "      <td>0</td>\n",
       "      <td>33</td>\n",
       "      <td>27</td>\n",
       "      <td>21</td>\n",
       "      <td>1</td>\n",
       "      <td>2</td>\n",
       "      <td>69</td>\n",
       "      <td>13</td>\n",
       "    </tr>\n",
       "    <tr>\n",
       "      <th>1</th>\n",
       "      <td>A. J. Burnett</td>\n",
       "      <td>AR</td>\n",
       "      <td>0.259</td>\n",
       "      <td>1146</td>\n",
       "      <td>187</td>\n",
       "      <td>186</td>\n",
       "      <td>1040</td>\n",
       "      <td>534</td>\n",
       "      <td>435</td>\n",
       "      <td>73</td>\n",
       "      <td>12</td>\n",
       "      <td>1127</td>\n",
       "      <td>116</td>\n",
       "    </tr>\n",
       "    <tr>\n",
       "      <th>2</th>\n",
       "      <td>A. J. Cole</td>\n",
       "      <td>FL</td>\n",
       "      <td>0.293</td>\n",
       "      <td>173</td>\n",
       "      <td>79</td>\n",
       "      <td>19</td>\n",
       "      <td>181</td>\n",
       "      <td>94</td>\n",
       "      <td>72</td>\n",
       "      <td>5</td>\n",
       "      <td>3</td>\n",
       "      <td>188</td>\n",
       "      <td>35</td>\n",
       "    </tr>\n",
       "    <tr>\n",
       "      <th>3</th>\n",
       "      <td>A. J. Griffin</td>\n",
       "      <td>CA</td>\n",
       "      <td>0.243</td>\n",
       "      <td>478</td>\n",
       "      <td>88</td>\n",
       "      <td>85</td>\n",
       "      <td>403</td>\n",
       "      <td>231</td>\n",
       "      <td>147</td>\n",
       "      <td>18</td>\n",
       "      <td>3</td>\n",
       "      <td>437</td>\n",
       "      <td>94</td>\n",
       "    </tr>\n",
       "    <tr>\n",
       "      <th>4</th>\n",
       "      <td>A. J. Minter</td>\n",
       "      <td>TX</td>\n",
       "      <td>0.255</td>\n",
       "      <td>105</td>\n",
       "      <td>117</td>\n",
       "      <td>0</td>\n",
       "      <td>130</td>\n",
       "      <td>50</td>\n",
       "      <td>47</td>\n",
       "      <td>3</td>\n",
       "      <td>6</td>\n",
       "      <td>106</td>\n",
       "      <td>7</td>\n",
       "    </tr>\n",
       "  </tbody>\n",
       "</table>\n",
       "</div>"
      ],
      "text/plain": [
       "            Name State_Born  Batting_Avg  Innings_Pitched  Games  Starts  \\\n",
       "0   A. J. Achter         OH        0.277               61     45       0   \n",
       "1  A. J. Burnett         AR        0.259             1146    187     186   \n",
       "2     A. J. Cole         FL        0.293              173     79      19   \n",
       "3  A. J. Griffin         CA        0.243              478     88      85   \n",
       "4   A. J. Minter         TX        0.255              105    117       0   \n",
       "\n",
       "   Strikeouts  Earned_Runs  Walks_Allowed  Hit_Batters  Int_Walks  Hits  \\\n",
       "0          33           27             21            1          2    69   \n",
       "1        1040          534            435           73         12  1127   \n",
       "2         181           94             72            5          3   188   \n",
       "3         403          231            147           18          3   437   \n",
       "4         130           50             47            3          6   106   \n",
       "\n",
       "   Homeruns_Allowed  \n",
       "0                13  \n",
       "1               116  \n",
       "2                35  \n",
       "3                94  \n",
       "4                 7  "
      ]
     },
     "execution_count": 2,
     "metadata": {},
     "output_type": "execute_result"
    }
   ],
   "source": [
    "#read file\n",
    "\n",
    "data = pd.read_csv('C:/Users/Ryan/Desktop/Baseball Analysis Projects/USA MLB Pitcher Stats 2010 to 2019.csv')\n",
    "\n",
    "#verifying file read\n",
    "\n",
    "data.head()"
   ]
  },
  {
   "cell_type": "code",
   "execution_count": 3,
   "metadata": {},
   "outputs": [],
   "source": [
    "#creating ERA column\n",
    "\n",
    "data['ERA'] = round(((data['Earned_Runs'] / data['Innings_Pitched'])*9),2).astype(float)\n",
    "\n",
    "#removing any infinite value ERAs\n",
    "\n",
    "data = data[~data.isin([np.nan, np.inf, -np.inf]).any(1)]"
   ]
  },
  {
   "cell_type": "code",
   "execution_count": 4,
   "metadata": {
    "scrolled": true
   },
   "outputs": [
    {
     "data": {
      "text/html": [
       "<div>\n",
       "<style scoped>\n",
       "    .dataframe tbody tr th:only-of-type {\n",
       "        vertical-align: middle;\n",
       "    }\n",
       "\n",
       "    .dataframe tbody tr th {\n",
       "        vertical-align: top;\n",
       "    }\n",
       "\n",
       "    .dataframe thead th {\n",
       "        text-align: right;\n",
       "    }\n",
       "</style>\n",
       "<table border=\"1\" class=\"dataframe\">\n",
       "  <thead>\n",
       "    <tr style=\"text-align: right;\">\n",
       "      <th></th>\n",
       "      <th>Name</th>\n",
       "      <th>State_Born</th>\n",
       "      <th>Batting_Avg</th>\n",
       "      <th>Innings_Pitched</th>\n",
       "      <th>Games</th>\n",
       "      <th>Starts</th>\n",
       "      <th>Strikeouts</th>\n",
       "      <th>Earned_Runs</th>\n",
       "      <th>Walks_Allowed</th>\n",
       "      <th>Hit_Batters</th>\n",
       "      <th>Int_Walks</th>\n",
       "      <th>Hits</th>\n",
       "      <th>Homeruns_Allowed</th>\n",
       "      <th>ERA</th>\n",
       "    </tr>\n",
       "  </thead>\n",
       "  <tbody>\n",
       "    <tr>\n",
       "      <th>0</th>\n",
       "      <td>A. J. Achter</td>\n",
       "      <td>OH</td>\n",
       "      <td>0.277</td>\n",
       "      <td>61</td>\n",
       "      <td>45</td>\n",
       "      <td>0</td>\n",
       "      <td>33</td>\n",
       "      <td>27</td>\n",
       "      <td>21</td>\n",
       "      <td>1</td>\n",
       "      <td>2</td>\n",
       "      <td>69</td>\n",
       "      <td>13</td>\n",
       "      <td>3.98</td>\n",
       "    </tr>\n",
       "    <tr>\n",
       "      <th>1</th>\n",
       "      <td>A. J. Burnett</td>\n",
       "      <td>AR</td>\n",
       "      <td>0.259</td>\n",
       "      <td>1146</td>\n",
       "      <td>187</td>\n",
       "      <td>186</td>\n",
       "      <td>1040</td>\n",
       "      <td>534</td>\n",
       "      <td>435</td>\n",
       "      <td>73</td>\n",
       "      <td>12</td>\n",
       "      <td>1127</td>\n",
       "      <td>116</td>\n",
       "      <td>4.19</td>\n",
       "    </tr>\n",
       "    <tr>\n",
       "      <th>2</th>\n",
       "      <td>A. J. Cole</td>\n",
       "      <td>FL</td>\n",
       "      <td>0.293</td>\n",
       "      <td>173</td>\n",
       "      <td>79</td>\n",
       "      <td>19</td>\n",
       "      <td>181</td>\n",
       "      <td>94</td>\n",
       "      <td>72</td>\n",
       "      <td>5</td>\n",
       "      <td>3</td>\n",
       "      <td>188</td>\n",
       "      <td>35</td>\n",
       "      <td>4.89</td>\n",
       "    </tr>\n",
       "    <tr>\n",
       "      <th>3</th>\n",
       "      <td>A. J. Griffin</td>\n",
       "      <td>CA</td>\n",
       "      <td>0.243</td>\n",
       "      <td>478</td>\n",
       "      <td>88</td>\n",
       "      <td>85</td>\n",
       "      <td>403</td>\n",
       "      <td>231</td>\n",
       "      <td>147</td>\n",
       "      <td>18</td>\n",
       "      <td>3</td>\n",
       "      <td>437</td>\n",
       "      <td>94</td>\n",
       "      <td>4.35</td>\n",
       "    </tr>\n",
       "    <tr>\n",
       "      <th>4</th>\n",
       "      <td>A. J. Minter</td>\n",
       "      <td>TX</td>\n",
       "      <td>0.255</td>\n",
       "      <td>105</td>\n",
       "      <td>117</td>\n",
       "      <td>0</td>\n",
       "      <td>130</td>\n",
       "      <td>50</td>\n",
       "      <td>47</td>\n",
       "      <td>3</td>\n",
       "      <td>6</td>\n",
       "      <td>106</td>\n",
       "      <td>7</td>\n",
       "      <td>4.29</td>\n",
       "    </tr>\n",
       "  </tbody>\n",
       "</table>\n",
       "</div>"
      ],
      "text/plain": [
       "            Name State_Born  Batting_Avg  Innings_Pitched  Games  Starts  \\\n",
       "0   A. J. Achter         OH        0.277               61     45       0   \n",
       "1  A. J. Burnett         AR        0.259             1146    187     186   \n",
       "2     A. J. Cole         FL        0.293              173     79      19   \n",
       "3  A. J. Griffin         CA        0.243              478     88      85   \n",
       "4   A. J. Minter         TX        0.255              105    117       0   \n",
       "\n",
       "   Strikeouts  Earned_Runs  Walks_Allowed  Hit_Batters  Int_Walks  Hits  \\\n",
       "0          33           27             21            1          2    69   \n",
       "1        1040          534            435           73         12  1127   \n",
       "2         181           94             72            5          3   188   \n",
       "3         403          231            147           18          3   437   \n",
       "4         130           50             47            3          6   106   \n",
       "\n",
       "   Homeruns_Allowed   ERA  \n",
       "0                13  3.98  \n",
       "1               116  4.19  \n",
       "2                35  4.89  \n",
       "3                94  4.35  \n",
       "4                 7  4.29  "
      ]
     },
     "execution_count": 4,
     "metadata": {},
     "output_type": "execute_result"
    }
   ],
   "source": [
    "data.head(5)"
   ]
  },
  {
   "cell_type": "code",
   "execution_count": 5,
   "metadata": {},
   "outputs": [
    {
     "data": {
      "text/html": [
       "<div>\n",
       "<style scoped>\n",
       "    .dataframe tbody tr th:only-of-type {\n",
       "        vertical-align: middle;\n",
       "    }\n",
       "\n",
       "    .dataframe tbody tr th {\n",
       "        vertical-align: top;\n",
       "    }\n",
       "\n",
       "    .dataframe thead th {\n",
       "        text-align: right;\n",
       "    }\n",
       "</style>\n",
       "<table border=\"1\" class=\"dataframe\">\n",
       "  <thead>\n",
       "    <tr style=\"text-align: right;\">\n",
       "      <th></th>\n",
       "      <th>Name</th>\n",
       "      <th>State_Born</th>\n",
       "      <th>Innings_Pitched</th>\n",
       "      <th>Games</th>\n",
       "      <th>Starts</th>\n",
       "      <th>ERA</th>\n",
       "      <th>Batting_Avg</th>\n",
       "    </tr>\n",
       "  </thead>\n",
       "  <tbody>\n",
       "    <tr>\n",
       "      <th>0</th>\n",
       "      <td>A. J. Achter</td>\n",
       "      <td>OH</td>\n",
       "      <td>61</td>\n",
       "      <td>45</td>\n",
       "      <td>0</td>\n",
       "      <td>3.98</td>\n",
       "      <td>0.277</td>\n",
       "    </tr>\n",
       "    <tr>\n",
       "      <th>1</th>\n",
       "      <td>A. J. Burnett</td>\n",
       "      <td>AR</td>\n",
       "      <td>1146</td>\n",
       "      <td>187</td>\n",
       "      <td>186</td>\n",
       "      <td>4.19</td>\n",
       "      <td>0.259</td>\n",
       "    </tr>\n",
       "    <tr>\n",
       "      <th>2</th>\n",
       "      <td>A. J. Cole</td>\n",
       "      <td>FL</td>\n",
       "      <td>173</td>\n",
       "      <td>79</td>\n",
       "      <td>19</td>\n",
       "      <td>4.89</td>\n",
       "      <td>0.293</td>\n",
       "    </tr>\n",
       "    <tr>\n",
       "      <th>3</th>\n",
       "      <td>A. J. Griffin</td>\n",
       "      <td>CA</td>\n",
       "      <td>478</td>\n",
       "      <td>88</td>\n",
       "      <td>85</td>\n",
       "      <td>4.35</td>\n",
       "      <td>0.243</td>\n",
       "    </tr>\n",
       "    <tr>\n",
       "      <th>4</th>\n",
       "      <td>A. J. Minter</td>\n",
       "      <td>TX</td>\n",
       "      <td>105</td>\n",
       "      <td>117</td>\n",
       "      <td>0</td>\n",
       "      <td>4.29</td>\n",
       "      <td>0.255</td>\n",
       "    </tr>\n",
       "  </tbody>\n",
       "</table>\n",
       "</div>"
      ],
      "text/plain": [
       "            Name State_Born  Innings_Pitched  Games  Starts   ERA  Batting_Avg\n",
       "0   A. J. Achter         OH               61     45       0  3.98        0.277\n",
       "1  A. J. Burnett         AR             1146    187     186  4.19        0.259\n",
       "2     A. J. Cole         FL              173     79      19  4.89        0.293\n",
       "3  A. J. Griffin         CA              478     88      85  4.35        0.243\n",
       "4   A. J. Minter         TX              105    117       0  4.29        0.255"
      ]
     },
     "execution_count": 5,
     "metadata": {},
     "output_type": "execute_result"
    }
   ],
   "source": [
    "#cleaning data dataframe to include only necessary columns for analysis\n",
    "\n",
    "data = data[['Name', 'State_Born', 'Innings_Pitched', 'Games', 'Starts', 'ERA', 'Batting_Avg']]\n",
    "\n",
    "data.head() #verifying column selection"
   ]
  },
  {
   "cell_type": "markdown",
   "metadata": {},
   "source": [
    "## Scraping Weather Data for Climate\n",
    "\n",
    "In order to determine climate numbers, we must first obtain temperatures. To do this, we will scrape average state temperature weather data from the site usa.com, and then store the scraped data in a DataFrame."
   ]
  },
  {
   "cell_type": "code",
   "execution_count": 6,
   "metadata": {},
   "outputs": [
    {
     "data": {
      "text/html": [
       "<div>\n",
       "<style scoped>\n",
       "    .dataframe tbody tr th:only-of-type {\n",
       "        vertical-align: middle;\n",
       "    }\n",
       "\n",
       "    .dataframe tbody tr th {\n",
       "        vertical-align: top;\n",
       "    }\n",
       "\n",
       "    .dataframe thead th {\n",
       "        text-align: right;\n",
       "    }\n",
       "</style>\n",
       "<table border=\"1\" class=\"dataframe\">\n",
       "  <thead>\n",
       "    <tr style=\"text-align: right;\">\n",
       "      <th></th>\n",
       "      <th>0</th>\n",
       "      <th>1</th>\n",
       "      <th>2</th>\n",
       "    </tr>\n",
       "  </thead>\n",
       "  <tbody>\n",
       "    <tr>\n",
       "      <th>0</th>\n",
       "      <td>Rank</td>\n",
       "      <td>Average Temperature ▼</td>\n",
       "      <td>State / Population</td>\n",
       "    </tr>\n",
       "    <tr>\n",
       "      <th>1</th>\n",
       "      <td>1.</td>\n",
       "      <td>72.95°F</td>\n",
       "      <td>Hawaii / 1,392,704</td>\n",
       "    </tr>\n",
       "    <tr>\n",
       "      <th>2</th>\n",
       "      <td>2.</td>\n",
       "      <td>71.80°F</td>\n",
       "      <td>Florida / 19,361,792</td>\n",
       "    </tr>\n",
       "    <tr>\n",
       "      <th>3</th>\n",
       "      <td>3.</td>\n",
       "      <td>66.74°F</td>\n",
       "      <td>Louisiana / 4,601,049</td>\n",
       "    </tr>\n",
       "    <tr>\n",
       "      <th>4</th>\n",
       "      <td>4.</td>\n",
       "      <td>65.97°F</td>\n",
       "      <td>Arizona / 6,561,516</td>\n",
       "    </tr>\n",
       "  </tbody>\n",
       "</table>\n",
       "</div>"
      ],
      "text/plain": [
       "      0                      1                      2\n",
       "0  Rank  Average Temperature ▼     State / Population\n",
       "1    1.                72.95°F     Hawaii / 1,392,704\n",
       "2    2.                71.80°F   Florida / 19,361,792\n",
       "3    3.                66.74°F  Louisiana / 4,601,049\n",
       "4    4.                65.97°F    Arizona / 6,561,516"
      ]
     },
     "execution_count": 6,
     "metadata": {},
     "output_type": "execute_result"
    }
   ],
   "source": [
    "#scraping weather data from usa.com\n",
    "\n",
    "from bs4 import BeautifulSoup as BS\n",
    "import requests\n",
    "\n",
    "URL = 'http://www.usa.com/rank/us--average-temperature--state-rank.htm'\n",
    "\n",
    "weather = requests.get(URL)\n",
    "parser = BS(weather.content, 'html.parser')\n",
    "body = parser.body\n",
    "table = body.find_all('table')\n",
    "df = pd.read_html(str(table))[0]\n",
    "\n",
    "df.head() #verifying web scrape"
   ]
  },
  {
   "cell_type": "markdown",
   "metadata": {},
   "source": [
    "### Cleaning Scraped Climate Data\n",
    "\n",
    "Now that we have our weather data stored into a DataFrame, we need to clean this data to make it easier to read as well as easier to use. We will rename the columns, remove the population numbers and the Fahrenheit symbol, and replace the full state names with abbreviations to help us match each state with the home states in our player database."
   ]
  },
  {
   "cell_type": "code",
   "execution_count": 7,
   "metadata": {},
   "outputs": [],
   "source": [
    "#cleaning scraped df\n",
    "\n",
    "df.columns = ['Rank', 'Average_Temperature', 'State']\n",
    "\n",
    "df = df[['State', 'Average_Temperature']] #removes rank column\n",
    "df = df[1:]"
   ]
  },
  {
   "cell_type": "code",
   "execution_count": 8,
   "metadata": {},
   "outputs": [],
   "source": [
    "#more cleaning\n",
    "\n",
    "df['State'] = df['State'].astype(str).str.split('/').str[0]\n",
    "df['State'] = df['State'].str.strip()\n",
    "\n",
    "df['Average_Temperature'] = df['Average_Temperature'].astype(str).str.strip().str[:-2]\n",
    "df['Average_Temperature'] = df['Average_Temperature'].astype(float)"
   ]
  },
  {
   "cell_type": "code",
   "execution_count": 9,
   "metadata": {},
   "outputs": [],
   "source": [
    "#rename states to abbreviations\n",
    "\n",
    "df['State'] = df['State'].replace({\n",
    "    'Hawaii':'HI', 'Florida':'FL', 'Louisiana':'LA', 'Arizona':'AZ', 'Texas':'TX', 'Mississippi':'MS',\n",
    "    'Alabama':'AL', 'Georgia':'GA', 'South Carolina':'SC', 'California':'CA', 'Oklahoma':'OK',\n",
    "    'Arkansas':'AR', 'North Carolina':'NC', 'Tennessee':'TN', 'Nevada':'NV', 'Kentucky':'KY',\n",
    "    'Virginia':'VA', 'District of Columbia':'DC', 'Missouri':'MO', 'Kansas':'KS', 'Maryland':'MD',\n",
    "    'Delaware':'DE', 'West Virginia':'WV', 'New Mexico':'NM', 'New Jersey':'NJ', 'Indiana':'IN', 'Illinois':'IL',\n",
    "    'Oregon':'OR', 'Ohio':'OH', 'Washington':'WA', 'Nebraska':'NE', 'Pennsylvania':'PA', 'Utah':'UT',\n",
    "    'Rhode Island':'RI', 'Connecticut':'CT', 'New York':'NY', 'Massachusetts':'MA', 'Iowa':'IA', 'Michigan':'MI',\n",
    "    'Idaho':'ID', 'Colorado':'CO', 'South Dakota':'SD', 'Wisconsin':'WI', 'New Hampshire':'NH', 'Montana':'MT',\n",
    "    'Vermont':'VT', 'Wyoming':'WY', 'Maine':'ME', 'Minnesota':'MN', 'North Dakota':'ND', 'Alaska':'AK'\n",
    "})"
   ]
  },
  {
   "cell_type": "code",
   "execution_count": 10,
   "metadata": {
    "scrolled": false
   },
   "outputs": [
    {
     "data": {
      "text/html": [
       "<div>\n",
       "<style scoped>\n",
       "    .dataframe tbody tr th:only-of-type {\n",
       "        vertical-align: middle;\n",
       "    }\n",
       "\n",
       "    .dataframe tbody tr th {\n",
       "        vertical-align: top;\n",
       "    }\n",
       "\n",
       "    .dataframe thead th {\n",
       "        text-align: right;\n",
       "    }\n",
       "</style>\n",
       "<table border=\"1\" class=\"dataframe\">\n",
       "  <thead>\n",
       "    <tr style=\"text-align: right;\">\n",
       "      <th></th>\n",
       "      <th>State</th>\n",
       "      <th>Average_Temperature</th>\n",
       "    </tr>\n",
       "  </thead>\n",
       "  <tbody>\n",
       "    <tr>\n",
       "      <th>1</th>\n",
       "      <td>HI</td>\n",
       "      <td>72.95</td>\n",
       "    </tr>\n",
       "    <tr>\n",
       "      <th>2</th>\n",
       "      <td>FL</td>\n",
       "      <td>71.80</td>\n",
       "    </tr>\n",
       "    <tr>\n",
       "      <th>3</th>\n",
       "      <td>LA</td>\n",
       "      <td>66.74</td>\n",
       "    </tr>\n",
       "    <tr>\n",
       "      <th>4</th>\n",
       "      <td>AZ</td>\n",
       "      <td>65.97</td>\n",
       "    </tr>\n",
       "    <tr>\n",
       "      <th>5</th>\n",
       "      <td>TX</td>\n",
       "      <td>65.97</td>\n",
       "    </tr>\n",
       "    <tr>\n",
       "      <th>6</th>\n",
       "      <td>MS</td>\n",
       "      <td>63.50</td>\n",
       "    </tr>\n",
       "    <tr>\n",
       "      <th>7</th>\n",
       "      <td>AL</td>\n",
       "      <td>62.68</td>\n",
       "    </tr>\n",
       "    <tr>\n",
       "      <th>8</th>\n",
       "      <td>GA</td>\n",
       "      <td>62.30</td>\n",
       "    </tr>\n",
       "    <tr>\n",
       "      <th>9</th>\n",
       "      <td>SC</td>\n",
       "      <td>61.70</td>\n",
       "    </tr>\n",
       "    <tr>\n",
       "      <th>10</th>\n",
       "      <td>CA</td>\n",
       "      <td>61.17</td>\n",
       "    </tr>\n",
       "    <tr>\n",
       "      <th>11</th>\n",
       "      <td>OK</td>\n",
       "      <td>60.14</td>\n",
       "    </tr>\n",
       "    <tr>\n",
       "      <th>12</th>\n",
       "      <td>AR</td>\n",
       "      <td>60.09</td>\n",
       "    </tr>\n",
       "    <tr>\n",
       "      <th>13</th>\n",
       "      <td>NC</td>\n",
       "      <td>58.70</td>\n",
       "    </tr>\n",
       "    <tr>\n",
       "      <th>14</th>\n",
       "      <td>TN</td>\n",
       "      <td>58.11</td>\n",
       "    </tr>\n",
       "    <tr>\n",
       "      <th>15</th>\n",
       "      <td>NV</td>\n",
       "      <td>57.30</td>\n",
       "    </tr>\n",
       "    <tr>\n",
       "      <th>16</th>\n",
       "      <td>KY</td>\n",
       "      <td>55.62</td>\n",
       "    </tr>\n",
       "    <tr>\n",
       "      <th>17</th>\n",
       "      <td>VA</td>\n",
       "      <td>55.54</td>\n",
       "    </tr>\n",
       "    <tr>\n",
       "      <th>18</th>\n",
       "      <td>DC</td>\n",
       "      <td>54.73</td>\n",
       "    </tr>\n",
       "    <tr>\n",
       "      <th>19</th>\n",
       "      <td>MO</td>\n",
       "      <td>54.70</td>\n",
       "    </tr>\n",
       "    <tr>\n",
       "      <th>20</th>\n",
       "      <td>KS</td>\n",
       "      <td>54.68</td>\n",
       "    </tr>\n",
       "  </tbody>\n",
       "</table>\n",
       "</div>"
      ],
      "text/plain": [
       "   State  Average_Temperature\n",
       "1     HI                72.95\n",
       "2     FL                71.80\n",
       "3     LA                66.74\n",
       "4     AZ                65.97\n",
       "5     TX                65.97\n",
       "6     MS                63.50\n",
       "7     AL                62.68\n",
       "8     GA                62.30\n",
       "9     SC                61.70\n",
       "10    CA                61.17\n",
       "11    OK                60.14\n",
       "12    AR                60.09\n",
       "13    NC                58.70\n",
       "14    TN                58.11\n",
       "15    NV                57.30\n",
       "16    KY                55.62\n",
       "17    VA                55.54\n",
       "18    DC                54.73\n",
       "19    MO                54.70\n",
       "20    KS                54.68"
      ]
     },
     "execution_count": 10,
     "metadata": {},
     "output_type": "execute_result"
    }
   ],
   "source": [
    "df.head(20) #showing top 20 climates"
   ]
  },
  {
   "cell_type": "markdown",
   "metadata": {},
   "source": [
    "## Determining Warm and Cold Climate Threshold\n",
    "\n",
    "With our weather data cleaned, we now need to determine what temperature to use as our \"climate threshold.\" Remember, the numbers provided in the weather database are the average temperatures for each state for all four seasons combined.\n",
    "\n",
    "For this analysis, our temperature threshold will be set as 55 degrees Fahrenheit. Based on the table shown above, this makes our last \"warm climate\" state as Virginia, and the first \"cold weather state\" as the Washington, DC area, which sounds about right."
   ]
  },
  {
   "cell_type": "code",
   "execution_count": 11,
   "metadata": {},
   "outputs": [],
   "source": [
    "#create climate column\n",
    "\n",
    "df['Climate'] = \"\"\n",
    "\n",
    "df['Climate'] = np.where(df.Average_Temperature >= 55, 'Warm', 'Cold')"
   ]
  },
  {
   "cell_type": "code",
   "execution_count": 12,
   "metadata": {},
   "outputs": [
    {
     "data": {
      "text/plain": [
       "Cold    34\n",
       "Warm    17\n",
       "Name: Climate, dtype: int64"
      ]
     },
     "execution_count": 12,
     "metadata": {},
     "output_type": "execute_result"
    }
   ],
   "source": [
    "#showing count of states in each climate\n",
    "\n",
    "df['Climate'].value_counts()"
   ]
  },
  {
   "cell_type": "markdown",
   "metadata": {},
   "source": [
    "As a note, our climate threshold has named 17 states as \"warm climate\" states and 34 states as \"cold climate\" states (this includes the Washington, DC area), as can be seen above.\n",
    "\n",
    "For the next part of our analysis, we will now group each state by climate, put them into warm and cold groups, and then append our player DataFrame by adding a climate column based on if the state they were born in is a warm or cold climate state."
   ]
  },
  {
   "cell_type": "code",
   "execution_count": 13,
   "metadata": {},
   "outputs": [],
   "source": [
    "#create groups by climate\n",
    "\n",
    "df = df.set_index('State')\n",
    "climate = df.groupby('Climate')\n",
    "\n",
    "warm = climate.get_group('Warm')\n",
    "cold = climate.get_group('Cold')"
   ]
  },
  {
   "cell_type": "code",
   "execution_count": 14,
   "metadata": {},
   "outputs": [],
   "source": [
    "#create climate column in data and fill column conditionally\n",
    "\n",
    "data['Climate'] = data.State_Born.apply(lambda x: 'Warm' if x in warm.index else 'Cold')\n",
    "\n",
    "#group by climate\n",
    "\n",
    "climate_group = data.groupby('Climate')"
   ]
  },
  {
   "cell_type": "code",
   "execution_count": 15,
   "metadata": {
    "scrolled": false
   },
   "outputs": [
    {
     "data": {
      "text/html": [
       "<div>\n",
       "<style scoped>\n",
       "    .dataframe tbody tr th:only-of-type {\n",
       "        vertical-align: middle;\n",
       "    }\n",
       "\n",
       "    .dataframe tbody tr th {\n",
       "        vertical-align: top;\n",
       "    }\n",
       "\n",
       "    .dataframe thead th {\n",
       "        text-align: right;\n",
       "    }\n",
       "</style>\n",
       "<table border=\"1\" class=\"dataframe\">\n",
       "  <thead>\n",
       "    <tr style=\"text-align: right;\">\n",
       "      <th></th>\n",
       "      <th>Name</th>\n",
       "      <th>State_Born</th>\n",
       "      <th>Innings_Pitched</th>\n",
       "      <th>Games</th>\n",
       "      <th>Starts</th>\n",
       "      <th>ERA</th>\n",
       "      <th>Batting_Avg</th>\n",
       "      <th>Climate</th>\n",
       "    </tr>\n",
       "  </thead>\n",
       "  <tbody>\n",
       "    <tr>\n",
       "      <th>0</th>\n",
       "      <td>A. J. Achter</td>\n",
       "      <td>OH</td>\n",
       "      <td>61</td>\n",
       "      <td>45</td>\n",
       "      <td>0</td>\n",
       "      <td>3.98</td>\n",
       "      <td>0.277</td>\n",
       "      <td>Cold</td>\n",
       "    </tr>\n",
       "    <tr>\n",
       "      <th>1</th>\n",
       "      <td>A. J. Burnett</td>\n",
       "      <td>AR</td>\n",
       "      <td>1146</td>\n",
       "      <td>187</td>\n",
       "      <td>186</td>\n",
       "      <td>4.19</td>\n",
       "      <td>0.259</td>\n",
       "      <td>Warm</td>\n",
       "    </tr>\n",
       "    <tr>\n",
       "      <th>2</th>\n",
       "      <td>A. J. Cole</td>\n",
       "      <td>FL</td>\n",
       "      <td>173</td>\n",
       "      <td>79</td>\n",
       "      <td>19</td>\n",
       "      <td>4.89</td>\n",
       "      <td>0.293</td>\n",
       "      <td>Warm</td>\n",
       "    </tr>\n",
       "    <tr>\n",
       "      <th>3</th>\n",
       "      <td>A. J. Griffin</td>\n",
       "      <td>CA</td>\n",
       "      <td>478</td>\n",
       "      <td>88</td>\n",
       "      <td>85</td>\n",
       "      <td>4.35</td>\n",
       "      <td>0.243</td>\n",
       "      <td>Warm</td>\n",
       "    </tr>\n",
       "    <tr>\n",
       "      <th>4</th>\n",
       "      <td>A. J. Minter</td>\n",
       "      <td>TX</td>\n",
       "      <td>105</td>\n",
       "      <td>117</td>\n",
       "      <td>0</td>\n",
       "      <td>4.29</td>\n",
       "      <td>0.255</td>\n",
       "      <td>Warm</td>\n",
       "    </tr>\n",
       "    <tr>\n",
       "      <th>...</th>\n",
       "      <td>...</td>\n",
       "      <td>...</td>\n",
       "      <td>...</td>\n",
       "      <td>...</td>\n",
       "      <td>...</td>\n",
       "      <td>...</td>\n",
       "      <td>...</td>\n",
       "      <td>...</td>\n",
       "    </tr>\n",
       "    <tr>\n",
       "      <th>1347</th>\n",
       "      <td>Zack Britton</td>\n",
       "      <td>CA</td>\n",
       "      <td>600</td>\n",
       "      <td>397</td>\n",
       "      <td>46</td>\n",
       "      <td>3.09</td>\n",
       "      <td>0.228</td>\n",
       "      <td>Warm</td>\n",
       "    </tr>\n",
       "    <tr>\n",
       "      <th>1348</th>\n",
       "      <td>Zack Godley</td>\n",
       "      <td>SC</td>\n",
       "      <td>535</td>\n",
       "      <td>128</td>\n",
       "      <td>81</td>\n",
       "      <td>4.69</td>\n",
       "      <td>0.253</td>\n",
       "      <td>Warm</td>\n",
       "    </tr>\n",
       "    <tr>\n",
       "      <th>1349</th>\n",
       "      <td>Zack Greinke</td>\n",
       "      <td>FL</td>\n",
       "      <td>1979</td>\n",
       "      <td>311</td>\n",
       "      <td>311</td>\n",
       "      <td>3.19</td>\n",
       "      <td>0.238</td>\n",
       "      <td>Warm</td>\n",
       "    </tr>\n",
       "    <tr>\n",
       "      <th>1350</th>\n",
       "      <td>Zack Littell</td>\n",
       "      <td>NC</td>\n",
       "      <td>57</td>\n",
       "      <td>37</td>\n",
       "      <td>2</td>\n",
       "      <td>3.95</td>\n",
       "      <td>0.274</td>\n",
       "      <td>Warm</td>\n",
       "    </tr>\n",
       "    <tr>\n",
       "      <th>1351</th>\n",
       "      <td>Zeke Spruill</td>\n",
       "      <td>VA</td>\n",
       "      <td>33</td>\n",
       "      <td>12</td>\n",
       "      <td>3</td>\n",
       "      <td>4.36</td>\n",
       "      <td>0.327</td>\n",
       "      <td>Warm</td>\n",
       "    </tr>\n",
       "  </tbody>\n",
       "</table>\n",
       "<p>1352 rows × 8 columns</p>\n",
       "</div>"
      ],
      "text/plain": [
       "               Name State_Born  Innings_Pitched  Games  Starts   ERA  \\\n",
       "0      A. J. Achter         OH               61     45       0  3.98   \n",
       "1     A. J. Burnett         AR             1146    187     186  4.19   \n",
       "2        A. J. Cole         FL              173     79      19  4.89   \n",
       "3     A. J. Griffin         CA              478     88      85  4.35   \n",
       "4      A. J. Minter         TX              105    117       0  4.29   \n",
       "...             ...        ...              ...    ...     ...   ...   \n",
       "1347   Zack Britton         CA              600    397      46  3.09   \n",
       "1348    Zack Godley         SC              535    128      81  4.69   \n",
       "1349   Zack Greinke         FL             1979    311     311  3.19   \n",
       "1350   Zack Littell         NC               57     37       2  3.95   \n",
       "1351   Zeke Spruill         VA               33     12       3  4.36   \n",
       "\n",
       "      Batting_Avg Climate  \n",
       "0           0.277    Cold  \n",
       "1           0.259    Warm  \n",
       "2           0.293    Warm  \n",
       "3           0.243    Warm  \n",
       "4           0.255    Warm  \n",
       "...           ...     ...  \n",
       "1347        0.228    Warm  \n",
       "1348        0.253    Warm  \n",
       "1349        0.238    Warm  \n",
       "1350        0.274    Warm  \n",
       "1351        0.327    Warm  \n",
       "\n",
       "[1352 rows x 8 columns]"
      ]
     },
     "execution_count": 15,
     "metadata": {},
     "output_type": "execute_result"
    }
   ],
   "source": [
    "data #shows first 5 and last 5 of DataFrame to verify climate column accuracy"
   ]
  },
  {
   "cell_type": "markdown",
   "metadata": {},
   "source": [
    "## Data Visualization\n",
    "\n",
    "For this next section, we will now create visualizations for the analysis done so far.\n",
    "\n",
    "To start, we will gather the number of pitchers in each of the warm and cold weather groups, then create a bar chart showing the results."
   ]
  },
  {
   "cell_type": "markdown",
   "metadata": {},
   "source": [
    "### Total Number of Pitchers by Climate"
   ]
  },
  {
   "cell_type": "code",
   "execution_count": 24,
   "metadata": {
    "scrolled": false
   },
   "outputs": [
    {
     "data": {
      "image/png": "[encoded data removed]",
      "text/plain": [
       "<Figure size 576x576 with 1 Axes>"
      ]
     },
     "metadata": {},
     "output_type": "display_data"
    }
   ],
   "source": [
    "#find total number of pitchers by climate\n",
    "\n",
    "pitcher_count = data['Climate'].value_counts()\n",
    "\n",
    "#plot results\n",
    "\n",
    "pitcher_count.plot.bar(title = 'Number of MLB Pitchers by Climate: 2010 - 2019', rot=0, figsize = (8, 8), \n",
    "                       color = ['red', 'blue'])\n",
    "plt.style.use('fivethirtyeight')\n",
    "plt.show()"
   ]
  },
  {
   "cell_type": "code",
   "execution_count": 17,
   "metadata": {},
   "outputs": [
    {
     "name": "stdout",
     "output_type": "stream",
     "text": [
      "Number of MLB Pitchers by Climate: 2010-2019\n",
      "Warm    879\n",
      "Cold    473\n",
      "Name: Climate, dtype: int64\n"
     ]
    }
   ],
   "source": [
    "#providing actual numbers to use with above graph\n",
    "\n",
    "print('Number of MLB Pitchers by Climate: 2010-2019')\n",
    "print(pitcher_count)"
   ]
  },
  {
   "cell_type": "markdown",
   "metadata": {},
   "source": [
    "The number of pitchers from 2010 to 2019 from warm weather states outnumbered those from cold weather states by a little over 400. That's a significant difference and is certainly noteworthy. The difference could mean that warm weather pitchers are more likely to make it through the minor leagues, as well as the collegiate level, to the majors with a lower chance of a significant arm injury."
   ]
  },
  {
   "cell_type": "markdown",
   "metadata": {},
   "source": [
    "### Innings Pitched by Climate\n",
    "\n",
    "Next, we will analyze the number of innings pitched between the average pitcher from warm weather states against their cold climate counterparts."
   ]
  },
  {
   "cell_type": "code",
   "execution_count": 18,
   "metadata": {},
   "outputs": [
    {
     "data": {
      "image/png": "[encoded data removed]",
      "text/plain": [
       "<Figure size 576x576 with 1 Axes>"
      ]
     },
     "metadata": {},
     "output_type": "display_data"
    }
   ],
   "source": [
    "#find average innings pitched by climate\n",
    "\n",
    "innings = climate_group['Innings_Pitched'].mean()\n",
    "\n",
    "#plot results\n",
    "\n",
    "innings.plot.bar(title = 'Average Innings Pitched by Climate: 2010 - 2019', rot=0, figsize = (8,8),\n",
    "                color = ['blue', 'red'])\n",
    "plt.style.use('fivethirtyeight')\n",
    "plt.xlabel('')\n",
    "plt.ylabel('Innings')\n",
    "plt.show()"
   ]
  },
  {
   "cell_type": "code",
   "execution_count": 19,
   "metadata": {
    "scrolled": true
   },
   "outputs": [
    {
     "name": "stdout",
     "output_type": "stream",
     "text": [
      "MLB Average Innings Pitched by Climate: 2010-2019\n",
      "Climate\n",
      "Cold    226.839323\n",
      "Warm    247.789534\n",
      "Name: Innings_Pitched, dtype: float64\n"
     ]
    }
   ],
   "source": [
    "#providing actual values for reference\n",
    "\n",
    "print('MLB Average Innings Pitched by Climate: 2010-2019')\n",
    "print(innings)"
   ]
  },
  {
   "cell_type": "markdown",
   "metadata": {},
   "source": [
    "Interesting. The disparity between the groups in the chart above is notably smaller this time, with the warm group's average pitcher tossing around 20 more innings.\n",
    "\n",
    "What can we take from this? It appears that once a pitcher makes it to the majors, the state (and climate) they are from does not seem to affect their workload as much. They have demonstrated a durability with their arms to navigate all the way through the minor leagues (and for some the college level plus minor leagues) to reach the majors."
   ]
  },
  {
   "cell_type": "markdown",
   "metadata": {},
   "source": [
    "### Appearances by Climate\n",
    "\n",
    "Now we will analyze the number of games the average pitcher from each group appears in, and chart it below."
   ]
  },
  {
   "cell_type": "code",
   "execution_count": 20,
   "metadata": {
    "scrolled": false
   },
   "outputs": [
    {
     "data": {
      "image/png": "[encoded data removed]",
      "text/plain": [
       "<Figure size 576x576 with 1 Axes>"
      ]
     },
     "metadata": {},
     "output_type": "display_data"
    }
   ],
   "source": [
    "#find average games by climate\n",
    "\n",
    "games = climate_group['Games'].mean()\n",
    "\n",
    "#plot results\n",
    "\n",
    "games.plot.bar(title = 'Average Number of Appearances: 2010 - 2019', rot=0, figsize=(8,8), color = ['blue', 'red'])\n",
    "plt.style.use('fivethirtyeight')\n",
    "plt.xlabel('')\n",
    "plt.ylabel('Appearances')\n",
    "plt.show()"
   ]
  },
  {
   "cell_type": "code",
   "execution_count": 21,
   "metadata": {},
   "outputs": [
    {
     "name": "stdout",
     "output_type": "stream",
     "text": [
      "Average Appearances by Climate\n",
      "Climate\n",
      "Cold    110.0\n",
      "Warm    107.0\n",
      "Name: Games, dtype: float64\n"
     ]
    }
   ],
   "source": [
    "#providing values for reference\n",
    "\n",
    "print('Average Appearances by Climate')\n",
    "print(round(games))"
   ]
  },
  {
   "cell_type": "markdown",
   "metadata": {},
   "source": [
    "This time, the cold climate group takes the advantage, averaging 3 more appearances from its pitchers than its warm weather counterparts. This result once again can show if a pitcher avoids a significant arm injury long enough to reach the majors, the state they are born in does not have a large impact on their MLB workload."
   ]
  },
  {
   "cell_type": "markdown",
   "metadata": {},
   "source": [
    "### Starts by Climate\n",
    "\n",
    "To round off our analysis, we will analyze the number of starts made by the average hurler in each group and chart it below."
   ]
  },
  {
   "cell_type": "code",
   "execution_count": 22,
   "metadata": {
    "scrolled": false
   },
   "outputs": [
    {
     "data": {
      "image/png": "[encoded data removed]",
      "text/plain": [
       "<Figure size 576x576 with 1 Axes>"
      ]
     },
     "metadata": {},
     "output_type": "display_data"
    }
   ],
   "source": [
    "#find average starts by climate\n",
    "\n",
    "starts = climate_group['Starts'].mean()\n",
    "\n",
    "#plot results\n",
    "\n",
    "starts.plot.bar(title = 'Average Number of Starts: 2010 - 2019', rot=0, figsize=(8,8), color = ['blue', 'red'])\n",
    "plt.style.use('fivethirtyeight')\n",
    "plt.xlabel('')\n",
    "plt.ylabel('Starts')\n",
    "plt.show()"
   ]
  },
  {
   "cell_type": "code",
   "execution_count": 23,
   "metadata": {
    "scrolled": true
   },
   "outputs": [
    {
     "name": "stdout",
     "output_type": "stream",
     "text": [
      "Average Starts Made by Climate\n",
      "Climate\n",
      "Cold    25.021142\n",
      "Warm    28.869170\n",
      "Name: Starts, dtype: float64\n"
     ]
    }
   ],
   "source": [
    "#providing numbers for reference\n",
    "\n",
    "print('Average Starts Made by Climate')\n",
    "print(starts)"
   ]
  },
  {
   "cell_type": "markdown",
   "metadata": {},
   "source": [
    "The warm climate group outpaces its counterpart by a little less than 4 starts. Given the huge disparity between the groups in the number of MLB pitchers in the time frame, a difference of about 4 starts on average isn't all that much."
   ]
  },
  {
   "cell_type": "markdown",
   "metadata": {},
   "source": [
    "## Conclusion\n",
    "\n",
    "The warm climate pitcher group significantly outperforms its cold weather counterparts only in number during the analyzed time frame. The statistics outside of this are relatively even between the two groups in our other categories.\n",
    "\n",
    "What does this mean? It can mean that if pitchers from cold climate states are going to have any significant arm injuries, it is much more likely in the college or minor league ranks than the major leagues. This is evidenced by the large disparity between the groups in their total player counts.\n",
    "\n",
    "Once a pitcher reaches the major leagues, the innings pitched, starts and appearances made all begin to balance out. Pitchers begin to benefit from excellent offseason training and nutrition programs as well as in-season medical attention and nutrition, making home state climate during their younger years less impactful once they reach the highest level."
   ]
  },
  {
   "cell_type": "code",
   "execution_count": null,
   "metadata": {},
   "outputs": [],
   "source": []
  }
 ],
 "metadata": {
  "kernelspec": {
   "display_name": "Python 3",
   "language": "python",
   "name": "python3"
  },
  "language_info": {
   "codemirror_mode": {
    "name": "ipython",
    "version": 3
   },
   "file_extension": ".py",
   "mimetype": "text/x-python",
   "name": "python",
   "nbconvert_exporter": "python",
   "pygments_lexer": "ipython3",
   "version": "3.8.5"
  }
 },
 "nbformat": 4,
 "nbformat_minor": 4
}
